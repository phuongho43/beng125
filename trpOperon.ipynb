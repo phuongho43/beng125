{
 "cells": [
  {
   "cell_type": "code",
   "execution_count": 1,
   "metadata": {
    "collapsed": true
   },
   "outputs": [],
   "source": [
    "import numpy as np\n",
    "from numpy.linalg import eig, det\n",
    "import seaborn as sns\n",
    "import matplotlib.pyplot as plt\n",
    "%matplotlib inline\n",
    "sns.set_style('whitegrid')\n",
    "sns.set_palette('pastel')\n",
    "import sympy as sp\n",
    "from scipy.integrate import odeint\n",
    "from scipy.optimize import fsolve"
   ]
  },
  {
   "cell_type": "markdown",
   "metadata": {},
   "source": [
    "### Define Differential Equations"
   ]
  },
  {
   "cell_type": "code",
   "execution_count": 2,
   "metadata": {
    "collapsed": true
   },
   "outputs": [],
   "source": [
    "def trp_eqs(x, u_R):\n",
    "    \"\"\"\n",
    "    Define parameter and ODE's describing the trp operon\n",
    "    x = x[0] : mRNA conc\n",
    "    y = x[1] : enzyme conc\n",
    "    z = x[2] : trp conc\n",
    "    \"\"\"\n",
    "    # Constants\n",
    "    a_1 = 0.9\n",
    "    a_2 = 0.02\n",
    "    a_3 = 0\n",
    "    a_4 = 0.024\n",
    "    a_5 = 430\n",
    "    a_6 = -7.5\n",
    "    k = 0.005\n",
    "    k_i = 100\n",
    "    T = 0.0156\n",
    "    mu_m = 0.0312\n",
    "    \n",
    "    k_a = 5.5\n",
    "    k_r = 25\n",
    "    r_m = 75\n",
    "    \n",
    "    r = r_m * x[2] / (x[2] + k_r)\n",
    "    mu = u_R * mu_m\n",
    "    u = T*mu\n",
    "    \n",
    "    # ODE's\n",
    "    dx0_dt = (1 + x[2]) / (1 + (1 + r) * x[2]) * k_a / (k_a + x[2]) - (u + a_1) * x[0]\n",
    "    dx1_dt = x[0] - (u + a_2) * x[1]\n",
    "    dx2_dt = x[1] * (k_i**2) / ((k_i**2) + (x[2]**2)) - \\\n",
    "    (u + a_3) * x[2] - (a_4 * x[2]) / (1 + x[2]) * x[2] / (x[2] + k_r) - \\\n",
    "    a_5 * (1 + a_6 * u) * u * x[2] / (x[2] + k)\n",
    "    \n",
    "    dx_dt = [dx0_dt, dx1_dt, dx2_dt]\n",
    "    return dx_dt"
   ]
  },
  {
   "cell_type": "code",
   "execution_count": 3,
   "metadata": {
    "collapsed": true
   },
   "outputs": [],
   "source": [
    "def trp_dynamics(x, t, u_R):\n",
    "    \"\"\"\n",
    "    Helper function for simulating trp operon dynamics over time\n",
    "    \"\"\"\n",
    "    dx_dt = trp_eqs(x, u_R)\n",
    "    return dx_dt"
   ]
  },
  {
   "cell_type": "markdown",
   "metadata": {},
   "source": [
    "### Solve for the Fixed Points\n",
    "By solving for all DE's = 0 numerically"
   ]
  },
  {
   "cell_type": "code",
   "execution_count": 105,
   "metadata": {
    "collapsed": true
   },
   "outputs": [],
   "source": [
    "def u_R_to_ss_concs(u_R_vec):\n",
    "    x_stars = []\n",
    "    y_stars = []\n",
    "    z_stars = []\n",
    "    for u_R in u_R_vec:\n",
    "        x_star, y_star, z_star = fsolve(trp_eqs, (0, 0, 0), args=(u_R,))\n",
    "        x_stars.append(x_star)\n",
    "        y_stars.append(y_star)\n",
    "        z_stars.append(z_star)\n",
    "    x_stars = np.array(x_stars)\n",
    "    y_stars = np.array(y_stars)\n",
    "    z_stars = np.array(z_stars)\n",
    "    return x_stars, y_stars, z_stars"
   ]
  },
  {
   "cell_type": "code",
   "execution_count": 110,
   "metadata": {
    "collapsed": true
   },
   "outputs": [],
   "source": [
    "u_R_vals = np.linspace(0, 1, 1000)"
   ]
  },
  {
   "cell_type": "code",
   "execution_count": 111,
   "metadata": {},
   "outputs": [],
   "source": [
    "x_stars, y_stars, z_stars = u_R_to_ss_concs(u_R_vals)"
   ]
  },
  {
   "cell_type": "code",
   "execution_count": 114,
   "metadata": {},
   "outputs": [
    {
     "data": {
      "text/plain": [
       "<matplotlib.text.Text at 0x7f6bbe6b72e8>"
      ]
     },
     "execution_count": 114,
     "metadata": {},
     "output_type": "execute_result"
    },
    {
     "data": {
      "image/png": "[encoded data removed]",
      "text/plain": [
       "<matplotlib.figure.Figure at 0x7f6bbe5f3198>"
      ]
     },
     "metadata": {},
     "output_type": "display_data"
    }
   ],
   "source": [
    "plt.figure(figsize=(16, 8))\n",
    "plt.plot(u_R_vals, x_stars, 'b', label='mRNA')\n",
    "# plt.plot(u_R_vals, y_stars, 'r', label='Enzyme')\n",
    "# plt.plot(u_R_vals, z_stars, 'g', label='Trp')\n",
    "plt.legend(loc='best')\n",
    "plt.xlabel('relative growth rate')\n",
    "plt.ylabel('Concentration')"
   ]
  },
  {
   "cell_type": "code",
   "execution_count": null,
   "metadata": {
    "collapsed": true
   },
   "outputs": [],
   "source": []
  },
  {
   "cell_type": "code",
   "execution_count": null,
   "metadata": {
    "collapsed": true
   },
   "outputs": [],
   "source": []
  },
  {
   "cell_type": "code",
   "execution_count": null,
   "metadata": {
    "collapsed": true
   },
   "outputs": [],
   "source": []
  },
  {
   "cell_type": "code",
   "execution_count": null,
   "metadata": {
    "collapsed": true
   },
   "outputs": [],
   "source": []
  },
  {
   "cell_type": "code",
   "execution_count": null,
   "metadata": {
    "collapsed": true
   },
   "outputs": [],
   "source": []
  },
  {
   "cell_type": "code",
   "execution_count": 77,
   "metadata": {},
   "outputs": [
    {
     "name": "stdout",
     "output_type": "stream",
     "text": [
      "0.00133359850548 0.0665180469547 75.458820578\n"
     ]
    }
   ],
   "source": [
    "x_star, y_star, z_star =  fsolve(trp_eqs, (1, 1, 1), args=(u_R,))\n",
    "print(x_star, y_star, z_star)"
   ]
  },
  {
   "cell_type": "code",
   "execution_count": 78,
   "metadata": {
    "collapsed": true
   },
   "outputs": [],
   "source": [
    "x0 = [x_star, y_star, z_star]\n",
    "t = np.linspace(0, 500, 1000)"
   ]
  },
  {
   "cell_type": "code",
   "execution_count": 79,
   "metadata": {
    "scrolled": true
   },
   "outputs": [
    {
     "data": {
      "text/plain": [
       "array([[  1.33359851e-03,   6.65180470e-02,   7.54588206e+01],\n",
       "       [  1.33359851e-03,   6.65180470e-02,   7.54588206e+01],\n",
       "       [  1.33359851e-03,   6.65180470e-02,   7.54588206e+01],\n",
       "       ..., \n",
       "       [  1.33359851e-03,   6.65180470e-02,   7.54588206e+01],\n",
       "       [  1.33359851e-03,   6.65180470e-02,   7.54588206e+01],\n",
       "       [  1.33359851e-03,   6.65180470e-02,   7.54588206e+01]])"
      ]
     },
     "execution_count": 79,
     "metadata": {},
     "output_type": "execute_result"
    }
   ],
   "source": [
    "sol = odeint(trp_dynamics, x0, t, args=(u_R,))\n",
    "sol"
   ]
  },
  {
   "cell_type": "code",
   "execution_count": 80,
   "metadata": {
    "scrolled": true
   },
   "outputs": [
    {
     "data": {
      "text/plain": [
       "<matplotlib.text.Text at 0x7f6bbee246a0>"
      ]
     },
     "execution_count": 80,
     "metadata": {},
     "output_type": "execute_result"
    },
    {
     "data": {
      "image/png": "[encoded data removed]",
      "text/plain": [
       "<matplotlib.figure.Figure at 0x7f6bbeed6630>"
      ]
     },
     "metadata": {},
     "output_type": "display_data"
    }
   ],
   "source": [
    "plt.figure(figsize=(16, 8))\n",
    "plt.plot(t, sol[:,0], 'b', label='mRNA')\n",
    "plt.plot(t, sol[:,1], 'r', label='Enzyme')\n",
    "plt.plot(t, sol[:,2], 'g', label='Trp')\n",
    "plt.legend(loc='best')\n",
    "plt.xlabel('Tau')\n",
    "plt.ylabel('Concentration')"
   ]
  },
  {
   "cell_type": "markdown",
   "metadata": {},
   "source": [
    "### Numerical Integration"
   ]
  },
  {
   "cell_type": "code",
   "execution_count": 94,
   "metadata": {},
   "outputs": [],
   "source": [
    "x0 = [1, 50, 0]\n",
    "t = np.linspace(0, 700, 5000)"
   ]
  },
  {
   "cell_type": "code",
   "execution_count": 95,
   "metadata": {},
   "outputs": [
    {
     "data": {
      "text/plain": [
       "array([[  1.00000000e+00,   5.00000000e+01,   0.00000000e+00],\n",
       "       [  9.03290909e-01,   4.99936894e+01,   6.98650167e+00],\n",
       "       [  7.98592916e-01,   4.99723937e+01,   1.39035351e+01],\n",
       "       ..., \n",
       "       [  2.34986704e-04,   1.16614199e-02,   3.60961026e+02],\n",
       "       [  2.34992459e-04,   1.16615868e-02,   3.60952619e+02],\n",
       "       [  2.34998215e-04,   1.16617542e-02,   3.60944211e+02]])"
      ]
     },
     "execution_count": 95,
     "metadata": {},
     "output_type": "execute_result"
    }
   ],
   "source": [
    "sol = odeint(trp_dynamics, x0, t, args=(0.1,))\n",
    "sol"
   ]
  },
  {
   "cell_type": "code",
   "execution_count": 96,
   "metadata": {
    "scrolled": false
   },
   "outputs": [
    {
     "data": {
      "text/plain": [
       "<matplotlib.text.Text at 0x7f6bbeb39ba8>"
      ]
     },
     "execution_count": 96,
     "metadata": {},
     "output_type": "execute_result"
    },
    {
     "data": {
      "image/png": "[encoded data removed]",
      "text/plain": [
       "<matplotlib.figure.Figure at 0x7f6bbea8b518>"
      ]
     },
     "metadata": {},
     "output_type": "display_data"
    }
   ],
   "source": [
    "plt.figure(figsize=(16,8))\n",
    "plt.plot(sol[:,2], sol[:,0], 'b')\n",
    "plt.xlabel('trp conc')\n",
    "plt.ylabel('mRNA conc')"
   ]
  },
  {
   "cell_type": "code",
   "execution_count": 87,
   "metadata": {},
   "outputs": [
    {
     "data": {
      "text/plain": [
       "<matplotlib.text.Text at 0x7f6bbec22630>"
      ]
     },
     "execution_count": 87,
     "metadata": {},
     "output_type": "execute_result"
    },
    {
     "data": {
      "image/png": "[encoded data removed]",
      "text/plain": [
       "<matplotlib.figure.Figure at 0x7f6bbec9b7b8>"
      ]
     },
     "metadata": {},
     "output_type": "display_data"
    }
   ],
   "source": [
    "plt.figure(figsize=(16, 8))\n",
    "plt.plot(t, sol[:,0], 'b')\n",
    "plt.plot(t, sol[:,1], 'r')\n",
    "plt.plot(t, sol[:,2], 'g')\n",
    "plt.xlabel('Tau')\n",
    "plt.ylabel('mRNA(blue) & enz(red) & trp(green)')"
   ]
  },
  {
   "cell_type": "code",
   "execution_count": null,
   "metadata": {},
   "outputs": [],
   "source": [
    "plt.figure(figsize=(16,8))\n",
    "plt.plot(sol[:,0], sol[:,1], 'b')\n",
    "plt.xlabel('mRNA conc')\n",
    "plt.ylabel('enz conc')"
   ]
  },
  {
   "cell_type": "markdown",
   "metadata": {},
   "source": [
    "### Jacobian Matrix"
   ]
  },
  {
   "cell_type": "code",
   "execution_count": null,
   "metadata": {
    "collapsed": true
   },
   "outputs": [],
   "source": [
    "(x, y) = sp.symbols('x, y', real=True)"
   ]
  },
  {
   "cell_type": "code",
   "execution_count": null,
   "metadata": {
    "collapsed": true
   },
   "outputs": [],
   "source": [
    "dx, dy = trp_eqs((x, y))"
   ]
  },
  {
   "cell_type": "code",
   "execution_count": null,
   "metadata": {
    "collapsed": true
   },
   "outputs": [],
   "source": [
    "A = sp.Matrix([dx, dy])"
   ]
  },
  {
   "cell_type": "code",
   "execution_count": null,
   "metadata": {
    "collapsed": true
   },
   "outputs": [],
   "source": [
    "J = A.jacobian([x, y])"
   ]
  },
  {
   "cell_type": "code",
   "execution_count": null,
   "metadata": {},
   "outputs": [],
   "source": [
    "J"
   ]
  },
  {
   "cell_type": "code",
   "execution_count": null,
   "metadata": {},
   "outputs": [],
   "source": [
    "J_atFP = J.subs([(x, x_star), (y, y_star)])\n",
    "J_atFP"
   ]
  },
  {
   "cell_type": "markdown",
   "metadata": {},
   "source": [
    "### Evaluating Stability"
   ]
  },
  {
   "cell_type": "code",
   "execution_count": null,
   "metadata": {},
   "outputs": [],
   "source": [
    "trace = J_atFP.trace()\n",
    "trace"
   ]
  },
  {
   "cell_type": "code",
   "execution_count": null,
   "metadata": {},
   "outputs": [],
   "source": [
    "determinant = J_atFP.det()\n",
    "determinant"
   ]
  },
  {
   "cell_type": "code",
   "execution_count": null,
   "metadata": {
    "collapsed": true
   },
   "outputs": [],
   "source": [
    "eigens = J_atFP.eigenvects()"
   ]
  },
  {
   "cell_type": "code",
   "execution_count": null,
   "metadata": {},
   "outputs": [],
   "source": [
    "eigens # ==> eigenvalues, multiplicity, eigenvector"
   ]
  },
  {
   "cell_type": "code",
   "execution_count": null,
   "metadata": {
    "collapsed": true
   },
   "outputs": [],
   "source": []
  },
  {
   "cell_type": "code",
   "execution_count": null,
   "metadata": {
    "collapsed": true
   },
   "outputs": [],
   "source": []
  },
  {
   "cell_type": "code",
   "execution_count": null,
   "metadata": {
    "collapsed": true
   },
   "outputs": [],
   "source": []
  }
 ],
 "metadata": {
  "kernelspec": {
   "display_name": "Python 3",
   "language": "python",
   "name": "python3"
  },
  "language_info": {
   "codemirror_mode": {
    "name": "ipython",
    "version": 3
   },
   "file_extension": ".py",
   "mimetype": "text/x-python",
   "name": "python",
   "nbconvert_exporter": "python",
   "pygments_lexer": "ipython3",
   "version": "3.6.1"
  }
 },
 "nbformat": 4,
 "nbformat_minor": 2
}
