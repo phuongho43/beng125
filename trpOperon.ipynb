{
 "cells": [
  {
   "cell_type": "code",
   "execution_count": 20,
   "metadata": {},
   "outputs": [],
   "source": [
    "import numpy as np\n",
    "from numpy.linalg import eig, det\n",
    "import seaborn as sns\n",
    "import matplotlib.pyplot as plt\n",
    "%matplotlib inline\n",
    "sns.set_style('whitegrid')\n",
    "sns.set_palette('pastel')\n",
    "import sympy as sp\n",
    "from scipy.integrate import odeint\n",
    "from scipy.optimize import fsolve"
   ]
  },
  {
   "cell_type": "markdown",
   "metadata": {},
   "source": [
    "### Define Differential Equations"
   ]
  },
  {
   "cell_type": "code",
   "execution_count": 93,
   "metadata": {
    "collapsed": true
   },
   "outputs": [],
   "source": [
    "def trp_dynamics(x, t):\n",
    "    \"\"\"For simulating trp operon dynamics over time:\n",
    "    x[0] : mRNA conc\n",
    "    x[1] : trp conc\n",
    "    y    : enzyme conc = 0.5*x[0]\n",
    "    \"\"\"\n",
    "    r_m = 75\n",
    "    alpha_1 = 0.9\n",
    "    alpha_2 = 0.02\n",
    "    alpha_3 = 0\n",
    "    alpha_4 = 0.024\n",
    "    alpha_5 = 430\n",
    "    alpha_6 = -0.75\n",
    "    k = 0.005\n",
    "    k_a = 5.5\n",
    "    k_i = 100\n",
    "    k_r = 25\n",
    "    u = 0.0002762\n",
    "    y = 0.5*x[0]\n",
    "    \n",
    "    r = r_m * x[1] / (x[1] + k_r)\n",
    "    dx0_dt = (1 + x[1]) / (1 + (1 + r) * x[1]) * k_a / (k_a + x[1]) - (u + alpha_1) * x[0]\n",
    "    dx1_dt = y * (k_i**2) / ((k_i**2) + (x[1]**2)) - \\\n",
    "    (u + alpha_3) * x[1] - (alpha_4 * x[1]) / (1 + x[1]) * x[1] / (x[1] + k_r) - \\\n",
    "    alpha_5 * (1 + alpha_6 * u) * u * x[1] / (x[1] + k)\n",
    "    \n",
    "    dx_dt = [dx0_dt, dx1_dt]\n",
    "    return dx_dt"
   ]
  },
  {
   "cell_type": "code",
   "execution_count": 94,
   "metadata": {
    "collapsed": true
   },
   "outputs": [],
   "source": [
    "def trp_eqs(x):\n",
    "    \"\"\"For finding the fixed points and stability\n",
    "    x[0] : mRNA conc\n",
    "    x[1] : trp conc\n",
    "    y    : enzyme conc = 0.5*x[0]\n",
    "    \"\"\"\n",
    "    r_m = 75\n",
    "    alpha_1 = 0.9\n",
    "    alpha_2 = 0.02\n",
    "    alpha_3 = 0\n",
    "    alpha_4 = 0.024\n",
    "    alpha_5 = 430\n",
    "    alpha_6 = -0.75\n",
    "    k = 0.005\n",
    "    k_a = 5.5\n",
    "    k_i = 100\n",
    "    k_r = 25\n",
    "    u = 0.0002762\n",
    "    y = 0.5*x[0]\n",
    "    \n",
    "    r = r_m * x[1] / (x[1] + k_r)\n",
    "    dx0_dt = (1 + x[1]) / (1 + (1 + r) * x[1]) * k_a / (k_a + x[1]) - (u + alpha_1) * x[0]\n",
    "    dx1_dt = y * (k_i**2) / ((k_i**2) + (x[1]**2)) - \\\n",
    "    (u + alpha_3) * x[1] - (alpha_4 * x[1]) / (1 + x[1]) * x[1] / (x[1] + k_r) - \\\n",
    "    alpha_5 * (1 + alpha_6 * u) * u * x[1] / (x[1] + k)\n",
    "    \n",
    "    dx_dt = [dx0_dt, dx1_dt]\n",
    "    return dx_dt"
   ]
  },
  {
   "cell_type": "markdown",
   "metadata": {},
   "source": [
    "### Numerical Integration"
   ]
  },
  {
   "cell_type": "code",
   "execution_count": 135,
   "metadata": {
    "collapsed": true
   },
   "outputs": [],
   "source": [
    "x0 = [0.06, 6]\n",
    "t = np.linspace(0, 5000, 1000)"
   ]
  },
  {
   "cell_type": "code",
   "execution_count": 136,
   "metadata": {},
   "outputs": [
    {
     "data": {
      "text/plain": [
       "array([[ 0.06      ,  6.        ],\n",
       "       [ 0.04371741,  5.4929215 ],\n",
       "       [ 0.04960726,  4.99050459],\n",
       "       ..., \n",
       "       [ 0.2392991 ,  1.53565275],\n",
       "       [ 0.2392991 ,  1.53565275],\n",
       "       [ 0.2392991 ,  1.53565275]])"
      ]
     },
     "execution_count": 136,
     "metadata": {},
     "output_type": "execute_result"
    }
   ],
   "source": [
    "sol = odeint(trp_dynamics, x0, t)\n",
    "sol"
   ]
  },
  {
   "cell_type": "code",
   "execution_count": 137,
   "metadata": {},
   "outputs": [
    {
     "data": {
      "text/plain": [
       "<matplotlib.text.Text at 0x7fec1aef08d0>"
      ]
     },
     "execution_count": 137,
     "metadata": {},
     "output_type": "execute_result"
    },
    {
     "data": {
      "image/png": "[encoded data removed]",
      "text/plain": [
       "<matplotlib.figure.Figure at 0x7fec1ae7a390>"
      ]
     },
     "metadata": {},
     "output_type": "display_data"
    }
   ],
   "source": [
    "plt.figure(figsize=(16,8))\n",
    "plt.plot(t, sol[:,0], 'b')\n",
    "plt.plot(t, sol[:,1], 'r-')\n",
    "plt.xlabel('Tau')\n",
    "plt.ylabel('mRNA(blue) & trp(red)')"
   ]
  },
  {
   "cell_type": "code",
   "execution_count": 129,
   "metadata": {},
   "outputs": [
    {
     "data": {
      "text/plain": [
       "<matplotlib.text.Text at 0x7fec1afdf4e0>"
      ]
     },
     "execution_count": 129,
     "metadata": {},
     "output_type": "execute_result"
    },
    {
     "data": {
      "image/png": "[encoded data removed]",
      "text/plain": [
       "<matplotlib.figure.Figure at 0x7fec1b498e48>"
      ]
     },
     "metadata": {},
     "output_type": "display_data"
    }
   ],
   "source": [
    "plt.figure(figsize=(16,8))\n",
    "plt.plot(sol[:,0], sol[:,1], 'b')\n",
    "plt.xlabel('mRNA conc')\n",
    "plt.ylabel('trp conc')"
   ]
  },
  {
   "cell_type": "markdown",
   "metadata": {},
   "source": [
    "### Solve for the Fixed Points\n",
    "By solving for all DE's = 0 numerically"
   ]
  },
  {
   "cell_type": "code",
   "execution_count": 130,
   "metadata": {
    "collapsed": true
   },
   "outputs": [],
   "source": [
    "x_star, y_star =  fsolve(trp_eqs, (1, 1))"
   ]
  },
  {
   "cell_type": "code",
   "execution_count": 131,
   "metadata": {},
   "outputs": [
    {
     "name": "stdout",
     "output_type": "stream",
     "text": [
      "0.239299103978 1.53565275238\n"
     ]
    }
   ],
   "source": [
    "print(x_star, y_star)"
   ]
  },
  {
   "cell_type": "code",
   "execution_count": 132,
   "metadata": {
    "collapsed": true
   },
   "outputs": [],
   "source": [
    "x0 = [x_star, y_star]\n",
    "t = np.linspace(0, 10, 1000)"
   ]
  },
  {
   "cell_type": "code",
   "execution_count": 133,
   "metadata": {
    "scrolled": true
   },
   "outputs": [
    {
     "data": {
      "text/plain": [
       "array([[ 0.2392991 ,  1.53565275],\n",
       "       [ 0.2392991 ,  1.53565275],\n",
       "       [ 0.2392991 ,  1.53565275],\n",
       "       ..., \n",
       "       [ 0.2392991 ,  1.53565275],\n",
       "       [ 0.2392991 ,  1.53565275],\n",
       "       [ 0.2392991 ,  1.53565275]])"
      ]
     },
     "execution_count": 133,
     "metadata": {},
     "output_type": "execute_result"
    }
   ],
   "source": [
    "sol = odeint(trp_dynamics, x0, t)\n",
    "sol"
   ]
  },
  {
   "cell_type": "code",
   "execution_count": 134,
   "metadata": {},
   "outputs": [
    {
     "data": {
      "text/plain": [
       "<matplotlib.text.Text at 0x7fec1af0d588>"
      ]
     },
     "execution_count": 134,
     "metadata": {},
     "output_type": "execute_result"
    },
    {
     "data": {
      "image/png": "[encoded data removed]",
      "text/plain": [
       "<matplotlib.figure.Figure at 0x7fec1b0b0978>"
      ]
     },
     "metadata": {},
     "output_type": "display_data"
    }
   ],
   "source": [
    "plt.figure(figsize=(16,8))\n",
    "plt.plot(t, sol[:,0], 'b')\n",
    "plt.plot(t, sol[:,1], 'r-')\n",
    "plt.xlabel('Tau')\n",
    "plt.ylabel('mRNA(blue) & trp(red)')"
   ]
  },
  {
   "cell_type": "markdown",
   "metadata": {},
   "source": [
    "### Jacobian Matrix"
   ]
  },
  {
   "cell_type": "code",
   "execution_count": 112,
   "metadata": {
    "collapsed": true
   },
   "outputs": [],
   "source": [
    "(x, y) = sp.symbols('x, y', real=True)"
   ]
  },
  {
   "cell_type": "code",
   "execution_count": 113,
   "metadata": {
    "collapsed": true
   },
   "outputs": [],
   "source": [
    "dx, dy = trp_eqs((x, y))"
   ]
  },
  {
   "cell_type": "code",
   "execution_count": 114,
   "metadata": {
    "collapsed": true
   },
   "outputs": [],
   "source": [
    "A = sp.Matrix([dx, dy])"
   ]
  },
  {
   "cell_type": "code",
   "execution_count": 115,
   "metadata": {
    "collapsed": true
   },
   "outputs": [],
   "source": [
    "J = A.jacobian([x, y])"
   ]
  },
  {
   "cell_type": "code",
   "execution_count": 116,
   "metadata": {},
   "outputs": [
    {
     "data": {
      "text/plain": [
       "Matrix([\n",
       "[           -0.9002762, 5.5*(y + 1)*(-y*(-75*y/(y + 25)**2 + 75/(y + 25)) - 75*y/(y + 25) - 1)/((y + 5.5)*(y*(75*y/(y + 25) + 1) + 1)**2) - 5.5*(y + 1)/((y + 5.5)**2*(y*(75*y/(y + 25) + 1) + 1)) + 5.5/((y + 5.5)*(y*(75*y/(y + 25) + 1) + 1))],\n",
       "[5000.0/(y**2 + 10000),           -10000.0*x*y/(y**2 + 10000)**2 + 0.024*y**2/((y + 1)*(y + 25)**2) + 0.024*y**2/((y + 1)**2*(y + 25)) - 0.048*y/((y + 1)*(y + 25)) + 0.1187413976231*y/(y + 0.005)**2 - 0.0002762 - 0.1187413976231/(y + 0.005)]])"
      ]
     },
     "execution_count": 116,
     "metadata": {},
     "output_type": "execute_result"
    }
   ],
   "source": [
    "J"
   ]
  },
  {
   "cell_type": "code",
   "execution_count": 117,
   "metadata": {},
   "outputs": [
    {
     "data": {
      "text/plain": [
       "Matrix([\n",
       "[       -0.9002762,   -0.166445769198849],\n",
       "[0.499882116330879, -0.00129513313149464]])"
      ]
     },
     "execution_count": 117,
     "metadata": {},
     "output_type": "execute_result"
    }
   ],
   "source": [
    "J_atFP = J.subs([(x, x_star), (y, y_star)])\n",
    "J_atFP"
   ]
  },
  {
   "cell_type": "markdown",
   "metadata": {},
   "source": [
    "### Evaluating Stability"
   ]
  },
  {
   "cell_type": "code",
   "execution_count": 118,
   "metadata": {},
   "outputs": [
    {
     "data": {
      "text/plain": [
       "-0.901571333131495"
      ]
     },
     "execution_count": 118,
     "metadata": {},
     "output_type": "execute_result"
    }
   ],
   "source": [
    "trace = J_atFP.trace()\n",
    "trace"
   ]
  },
  {
   "cell_type": "code",
   "execution_count": 119,
   "metadata": {},
   "outputs": [
    {
     "data": {
      "text/plain": [
       "0.0843692408955576"
      ]
     },
     "execution_count": 119,
     "metadata": {},
     "output_type": "execute_result"
    }
   ],
   "source": [
    "determinant = J_atFP.det()\n",
    "determinant"
   ]
  },
  {
   "cell_type": "code",
   "execution_count": 120,
   "metadata": {
    "collapsed": true
   },
   "outputs": [],
   "source": [
    "eigens = J_atFP.eigenvects()"
   ]
  },
  {
   "cell_type": "code",
   "execution_count": 121,
   "metadata": {},
   "outputs": [
    {
     "data": {
      "text/plain": [
       "[(-0.795515236352801, 1, [Matrix([\n",
       "   [-1.58881479707828],\n",
       "   [              1.0]])]), (-0.106056096778693, 1, [Matrix([\n",
       "   [-0.209571337370781],\n",
       "   [               1.0]])])]"
      ]
     },
     "execution_count": 121,
     "metadata": {},
     "output_type": "execute_result"
    }
   ],
   "source": [
    "eigens # ==> eigenvalues, multiplicity, eigenvector"
   ]
  },
  {
   "cell_type": "code",
   "execution_count": null,
   "metadata": {
    "collapsed": true
   },
   "outputs": [],
   "source": []
  },
  {
   "cell_type": "code",
   "execution_count": null,
   "metadata": {
    "collapsed": true
   },
   "outputs": [],
   "source": []
  },
  {
   "cell_type": "code",
   "execution_count": null,
   "metadata": {
    "collapsed": true
   },
   "outputs": [],
   "source": []
  }
 ],
 "metadata": {
  "kernelspec": {
   "display_name": "Python 3",
   "language": "python",
   "name": "python3"
  },
  "language_info": {
   "codemirror_mode": {
    "name": "ipython",
    "version": 3
   },
   "file_extension": ".py",
   "mimetype": "text/x-python",
   "name": "python",
   "nbconvert_exporter": "python",
   "pygments_lexer": "ipython3",
   "version": "3.6.1"
  }
 },
 "nbformat": 4,
 "nbformat_minor": 2
}
