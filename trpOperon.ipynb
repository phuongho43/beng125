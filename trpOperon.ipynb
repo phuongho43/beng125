{
 "cells": [
  {
   "cell_type": "code",
   "execution_count": 1,
   "metadata": {
    "collapsed": true
   },
   "outputs": [],
   "source": [
    "import numpy as np\n",
    "from numpy.linalg import eig, det\n",
    "import seaborn as sns\n",
    "import matplotlib.pyplot as plt\n",
    "%matplotlib inline\n",
    "import sympy as sp\n",
    "from scipy.integrate import odeint\n",
    "from scipy.optimize import fsolve"
   ]
  },
  {
   "cell_type": "markdown",
   "metadata": {},
   "source": [
    "### Define Differential Equations"
   ]
  },
  {
   "cell_type": "code",
   "execution_count": 2,
   "metadata": {
    "collapsed": true
   },
   "outputs": [],
   "source": [
    "def trp_dynamics(x, t):\n",
    "    \"\"\"For simulating trp operon dynamics over time:\n",
    "    x[0] : mRNA conc\n",
    "    x[1] : enzyme conc\n",
    "    x[2] : trp conc\n",
    "    \"\"\"\n",
    "    r_m = 75\n",
    "    alpha_1 = 0.9\n",
    "    alpha_2 = 0.02\n",
    "    alpha_3 = 0\n",
    "    alpha_4 = 0.024\n",
    "    alpha_5 = 430\n",
    "    alpha_6 = -0.75\n",
    "    k = 0.005\n",
    "    k_a = 5.5\n",
    "    k_i = 100\n",
    "    k_r = 25\n",
    "    u = 0.000048672\n",
    "    \n",
    "    r = r_m * x[2] / (x[2] + k_r)\n",
    "    dx0_dt = (1 + x[2]) / (1 + (1 + r) * x[2]) * k_a / (k_a + x[2]) - (u + alpha_1) * x[0]\n",
    "    dx1_dt = x[0] - (u + alpha_2) * x[1]\n",
    "    dx2_dt = x[1] * (k_i**2) / ((k_i**2) + (x[2]**2)) - \\\n",
    "    (u + alpha_3) * x[2] - (alpha_4 * x[2]) / (1 + x[2]) * x[2] / (x[2] + k_r) - \\\n",
    "    alpha_5 * (1 + alpha_6 * u) * u * x[2] / (x[2] + k)\n",
    "    \n",
    "    dx_dt = [dx0_dt, dx1_dt, dx2_dt]\n",
    "    return dx_dt"
   ]
  },
  {
   "cell_type": "code",
   "execution_count": 3,
   "metadata": {
    "collapsed": true
   },
   "outputs": [],
   "source": [
    "def trp_eqs(x):\n",
    "    \"\"\"For finding the fixed points and stability\n",
    "    x[0] : mRNA conc\n",
    "    x[1] : enzyme conc\n",
    "    x[2] : trp conc\n",
    "    \"\"\"\n",
    "    r_m = 75\n",
    "    alpha_1 = 0.9\n",
    "    alpha_2 = 0.02\n",
    "    alpha_3 = 0\n",
    "    alpha_4 = 0.024\n",
    "    alpha_5 = 430\n",
    "    alpha_6 = -0.75\n",
    "    k = 0.005\n",
    "    k_a = 5.5\n",
    "    k_i = 100\n",
    "    k_r = 25\n",
    "    u = 0.000048672\n",
    "    \n",
    "    r = r_m * x[2] / (x[2] + k_r)\n",
    "    dx0_dt = (1 + x[2]) / (1 + (1 + r) * x[2]) * k_a / (k_a + x[2]) - (u + alpha_1) * x[0]\n",
    "    dx1_dt = x[0] - (u + alpha_2) * x[1]\n",
    "    dx2_dt = x[1] * (k_i**2) / ((k_i**2) + (x[2]**2)) - \\\n",
    "    (u + alpha_3) * x[2] - (alpha_4 * x[2]) / (1 + x[2]) * x[2] / (x[2] + k_r) - \\\n",
    "    alpha_5 * (1 + alpha_6 * u) * u * x[2] / (x[2] + k)\n",
    "    \n",
    "    dx_dt = [dx0_dt, dx1_dt, dx2_dt]\n",
    "    return dx_dt"
   ]
  },
  {
   "cell_type": "markdown",
   "metadata": {},
   "source": [
    "### Numerical Integration"
   ]
  },
  {
   "cell_type": "code",
   "execution_count": 4,
   "metadata": {
    "collapsed": true
   },
   "outputs": [],
   "source": [
    "x0 = [20, 5, 100]\n",
    "t = np.linspace(0, 500, 1000)"
   ]
  },
  {
   "cell_type": "code",
   "execution_count": 5,
   "metadata": {},
   "outputs": [],
   "source": [
    "sol = odeint(trp_dynamics, x0, t)\n",
    "sol"
   ]
  },
  {
   "cell_type": "code",
   "execution_count": 6,
   "metadata": {},
   "outputs": [
    {
     "data": {
      "text/plain": [
       "[<matplotlib.lines.Line2D at 0x7fa10b3654e0>]"
      ]
     },
     "execution_count": 6,
     "metadata": {},
     "output_type": "execute_result"
    },
    {
     "data": {
      "image/png": "[encoded data removed]",
      "text/plain": [
       "<matplotlib.figure.Figure at 0x7fa0d597d748>"
      ]
     },
     "metadata": {},
     "output_type": "display_data"
    }
   ],
   "source": [
    "plt.figure(figsize=(16,8))\n",
    "plt.plot(t, sol[:,0], 'g.')\n",
    "plt.plot(t, sol[:,1], 'r-')\n",
    "plt.plot(t, sol[:,2], 'b--')"
   ]
  },
  {
   "cell_type": "markdown",
   "metadata": {},
   "source": [
    "### Solve for the Fixed Points\n",
    "By solving for all DE's = 0 numerically"
   ]
  },
  {
   "cell_type": "code",
   "execution_count": 7,
   "metadata": {},
   "outputs": [],
   "source": [
    "x_star, y_star, z_star =  fsolve(trp_eqs, (1, 1, 1))"
   ]
  },
  {
   "cell_type": "code",
   "execution_count": 8,
   "metadata": {},
   "outputs": [
    {
     "name": "stdout",
     "output_type": "stream",
     "text": [
      "0.00133372035365 0.066524124573 75.4530243247\n"
     ]
    }
   ],
   "source": [
    "print(x_star, y_star, z_star)"
   ]
  },
  {
   "cell_type": "markdown",
   "metadata": {},
   "source": [
    "### Jacobian Matrix"
   ]
  },
  {
   "cell_type": "code",
   "execution_count": 9,
   "metadata": {
    "collapsed": true
   },
   "outputs": [],
   "source": [
    "(x, y, z) = sp.symbols('x, y, z', real=True)"
   ]
  },
  {
   "cell_type": "code",
   "execution_count": 10,
   "metadata": {},
   "outputs": [],
   "source": [
    "dx, dy, dz = trp_eqs((x, y, z))"
   ]
  },
  {
   "cell_type": "code",
   "execution_count": 11,
   "metadata": {
    "collapsed": true
   },
   "outputs": [],
   "source": [
    "A = sp.Matrix([dx, dy, dz])"
   ]
  },
  {
   "cell_type": "code",
   "execution_count": 12,
   "metadata": {},
   "outputs": [],
   "source": [
    "J = A.jacobian([x, y, z])"
   ]
  },
  {
   "cell_type": "code",
   "execution_count": 13,
   "metadata": {},
   "outputs": [
    {
     "data": {
      "text/plain": [
       "Matrix([\n",
       "[-0.900048672,                    0, 5.5*(z + 1)*(-z*(-75*z/(z + 25)**2 + 75/(z + 25)) - 75*z/(z + 25) - 1)/((z + 5.5)*(z*(75*z/(z + 25) + 1) + 1)**2) - 5.5*(z + 1)/((z + 5.5)**2*(z*(75*z/(z + 25) + 1) + 1)) + 5.5/((z + 5.5)*(z*(75*z/(z + 25) + 1) + 1))],\n",
       "[           1,         -0.020048672,                                                                                                                                                                                                                        0],\n",
       "[           0, 10000/(z**2 + 10000),       -20000*y*z/(z**2 + 10000)**2 + 0.024*z**2/((z + 1)*(z + 25)**2) + 0.024*z**2/((z + 1)**2*(z + 25)) - 0.048*z/((z + 1)*(z + 25)) + 0.0209281960092442*z/(z + 0.005)**2 - 4.8672e-5 - 0.0209281960092442/(z + 0.005)]])"
      ]
     },
     "execution_count": 13,
     "metadata": {},
     "output_type": "execute_result"
    }
   ],
   "source": [
    "J"
   ]
  },
  {
   "cell_type": "code",
   "execution_count": 14,
   "metadata": {},
   "outputs": [
    {
     "data": {
      "text/plain": [
       "Matrix([\n",
       "[-0.900048672,                 0, -1.89223920826946e-5],\n",
       "[           1,      -0.020048672,                    0],\n",
       "[           0, 0.637220337640592, -0.00051808583681829]])"
      ]
     },
     "execution_count": 14,
     "metadata": {},
     "output_type": "execute_result"
    }
   ],
   "source": [
    "J_atFP = J.subs([(x, x_star), (y, y_star), (z, z_star)])\n",
    "J_atFP"
   ]
  },
  {
   "cell_type": "markdown",
   "metadata": {},
   "source": [
    "### Evaluating Stability"
   ]
  },
  {
   "cell_type": "code",
   "execution_count": 15,
   "metadata": {},
   "outputs": [
    {
     "data": {
      "text/plain": [
       "-0.920615429836818"
      ]
     },
     "execution_count": 15,
     "metadata": {},
     "output_type": "execute_result"
    }
   ],
   "source": [
    "trace = J_atFP.trace()\n",
    "trace"
   ]
  },
  {
   "cell_type": "code",
   "execution_count": 16,
   "metadata": {},
   "outputs": [
    {
     "data": {
      "text/plain": [
       "-2.14064783338997e-5"
      ]
     },
     "execution_count": 16,
     "metadata": {},
     "output_type": "execute_result"
    }
   ],
   "source": [
    "determinant = J_atFP.det()\n",
    "determinant"
   ]
  },
  {
   "cell_type": "code",
   "execution_count": 17,
   "metadata": {
    "collapsed": true
   },
   "outputs": [],
   "source": [
    "eigens = J_atFP.eigenvects()"
   ]
  },
  {
   "cell_type": "code",
   "execution_count": 21,
   "metadata": {},
   "outputs": [
    {
     "data": {
      "text/plain": [
       "[(-0.0193205414982279 + 0.e-21*I, 1, [Matrix([\n",
       "   [-2.14849411837386e-5 + 2.06795153138257e-25*I],\n",
       "   [ -0.0295069924023904 + 1.58818677610181e-22*I],\n",
       "   [                                          1.0]])]),\n",
       " (-0.00123098450496523 + 0.e-21*I, 1, [Matrix([\n",
       "   [-2.10525363997125e-5 - 4.13590306276514e-25*I],\n",
       "   [-0.00111876320643902 + 3.72231275648862e-24*I],\n",
       "   [                                          1.0]])]),\n",
       " (-0.900063903833625 + 0.e-22*I, 1, [Matrix([\n",
       "   [ 1.24229246119247 - 5.14709380157995e-25*I],\n",
       "   [-1.41167154414361 + 3.02809990072286e-25*I],\n",
       "   [                                       1.0]])])]"
      ]
     },
     "execution_count": 21,
     "metadata": {},
     "output_type": "execute_result"
    }
   ],
   "source": [
    "eigens # ==> eigenvalues, multiplicity, eigenvector"
   ]
  },
  {
   "cell_type": "code",
   "execution_count": null,
   "metadata": {
    "collapsed": true
   },
   "outputs": [],
   "source": []
  }
 ],
 "metadata": {
  "kernelspec": {
   "display_name": "Python 3",
   "language": "python",
   "name": "python3"
  },
  "language_info": {
   "codemirror_mode": {
    "name": "ipython",
    "version": 3
   },
   "file_extension": ".py",
   "mimetype": "text/x-python",
   "name": "python",
   "nbconvert_exporter": "python",
   "pygments_lexer": "ipython3",
   "version": "3.6.1"
  }
 },
 "nbformat": 4,
 "nbformat_minor": 2
}
